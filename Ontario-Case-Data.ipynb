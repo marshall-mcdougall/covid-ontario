{
 "cells": [
  {
   "cell_type": "code",
   "execution_count": 2,
   "metadata": {},
   "outputs": [],
   "source": [
    "import urllib\n",
    "import pandas as pd\n",
    "pd.set_option('display.max_rows', 500)\n",
    "import requests\n",
    "import json"
   ]
  },
  {
   "cell_type": "code",
   "execution_count": 4,
   "metadata": {},
   "outputs": [],
   "source": [
    "# Datasource URL: https://data.ontario.ca/dataset/ontario-covid-19-testing-metrics-by-public-health-unit-phu/resource/07bc0e21-26b5-4152-b609-c1958cb7b227\n",
    "url='https://data.ontario.ca/api/3/action/datastore_search?resource_id=07bc0e21-26b5-4152-b609-c1958cb7b227'\n",
    "url_limit=url+'&limit='\n",
    "data=requests.get(url)\n",
    "json_object=json.loads(data.content)\n",
    "limit=json_object['result']['total']\n",
    "\n",
    "data_total=requests.get(url_limit+str(limit))\n",
    "json_object_total=json.loads(data_total.content)"
   ]
  },
  {
   "cell_type": "code",
   "execution_count": 5,
   "metadata": {},
   "outputs": [],
   "source": [
    "data_points=[]\n",
    "for row in json_object_total['result']['records']:\n",
    "    data_points.append(row)"
   ]
  },
  {
   "cell_type": "code",
   "execution_count": 6,
   "metadata": {},
   "outputs": [],
   "source": [
    "pd.DataFrame(data_points).to_csv('ontario-case-data.csv')"
   ]
  }
 ],
 "metadata": {
  "kernelspec": {
   "display_name": "Python 3",
   "language": "python",
   "name": "python3"
  },
  "language_info": {
   "codemirror_mode": {
    "name": "ipython",
    "version": 3
   },
   "file_extension": ".py",
   "mimetype": "text/x-python",
   "name": "python",
   "nbconvert_exporter": "python",
   "pygments_lexer": "ipython3",
   "version": "3.7.3"
  }
 },
 "nbformat": 4,
 "nbformat_minor": 2
}
