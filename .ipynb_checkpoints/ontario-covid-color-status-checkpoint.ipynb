{
 "cells": [
  {
   "cell_type": "code",
   "execution_count": 74,
   "metadata": {},
   "outputs": [],
   "source": [
    "import urllib\n",
    "import pandas as pd\n",
    "pd.set_option('display.max_rows', 500)\n",
    "import requests\n",
    "import json\n",
    "import numpy as np"
   ]
  },
  {
   "cell_type": "code",
   "execution_count": 69,
   "metadata": {},
   "outputs": [],
   "source": [
    "# Datasource URL: https://data.ontario.ca/dataset/ontario-covid-19-zones/resource/ce9f043d-f0d4-40f0-9b96-4c8a83ded3f6\n",
    "url='https://data.ontario.ca/api/3/action/datastore_search?resource_id=ce9f043d-f0d4-40f0-9b96-4c8a83ded3f6'\n",
    "url_limit=url+'&limit='\n",
    "data=requests.get(url)\n",
    "json_object=json.loads(data.content)\n",
    "limit=json_object['result']['total']\n",
    "\n",
    "data_total=requests.get(url_limit+str(limit))\n",
    "json_object_total=json.loads(data_total.content)\n",
    "\n",
    "#column_names"
   ]
  },
  {
   "cell_type": "code",
   "execution_count": 65,
   "metadata": {},
   "outputs": [],
   "source": [
    "column_names=[]\n",
    "for field in json_object_total['result']['fields']:\n",
    "    column_names.append(field['id'])"
   ]
  },
  {
   "cell_type": "code",
   "execution_count": 67,
   "metadata": {},
   "outputs": [],
   "source": [
    "data_points=[]\n",
    "for row in json_object_total['result']['records']:\n",
    "    data_points.append(row)"
   ]
  },
  {
   "cell_type": "code",
   "execution_count": 68,
   "metadata": {},
   "outputs": [],
   "source": [
    "pd.DataFrame(data_points).to_csv('ontario-covid-color-status.csv')\n"
   ]
  }
 ],
 "metadata": {
  "kernelspec": {
   "display_name": "Python 3",
   "language": "python",
   "name": "python3"
  },
  "language_info": {
   "codemirror_mode": {
    "name": "ipython",
    "version": 3
   },
   "file_extension": ".py",
   "mimetype": "text/x-python",
   "name": "python",
   "nbconvert_exporter": "python",
   "pygments_lexer": "ipython3",
   "version": "3.7.3"
  }
 },
 "nbformat": 4,
 "nbformat_minor": 2
}
